{
 "cells": [
  {
   "cell_type": "code",
   "execution_count": 1,
   "metadata": {},
   "outputs": [
    {
     "name": "stderr",
     "output_type": "stream",
     "text": [
      "C:\\Users\\erikl\\Anaconda2\\envs\\AppliedDataScience\\lib\\site-packages\\statsmodels\\tools\\_testing.py:19: FutureWarning: pandas.util.testing is deprecated. Use the functions in the public API at pandas.testing instead.\n",
      "  import pandas.util.testing as tm\n"
     ]
    }
   ],
   "source": [
    "import pandas as pd\n",
    "import numpy as np\n",
    "import statsmodels.formula.api as smf\n",
    "import matplotlib.pylab as plt\n",
    "import math\n",
    "\n",
    "from sklearn.linear_model import LogisticRegression\n",
    "from sklearn import linear_model\n",
    "from sklearn.metrics import r2_score\n",
    "\n",
    "\n",
    "%matplotlib inline\n",
    "pd.options.display.max_columns = None"
   ]
  },
  {
   "cell_type": "code",
   "execution_count": 2,
   "metadata": {},
   "outputs": [],
   "source": [
    "test_raw = pd.read_csv(\"test.csv\")\n",
    "train_raw = pd.read_csv(\"train.csv\")"
   ]
  },
  {
   "cell_type": "code",
   "execution_count": 3,
   "metadata": {},
   "outputs": [
    {
     "data": {
      "text/html": [
       "<div>\n",
       "<style scoped>\n",
       "    .dataframe tbody tr th:only-of-type {\n",
       "        vertical-align: middle;\n",
       "    }\n",
       "\n",
       "    .dataframe tbody tr th {\n",
       "        vertical-align: top;\n",
       "    }\n",
       "\n",
       "    .dataframe thead th {\n",
       "        text-align: right;\n",
       "    }\n",
       "</style>\n",
       "<table border=\"1\" class=\"dataframe\">\n",
       "  <thead>\n",
       "    <tr style=\"text-align: right;\">\n",
       "      <th></th>\n",
       "      <th>PassengerId</th>\n",
       "      <th>Survived</th>\n",
       "      <th>Pclass</th>\n",
       "      <th>Name</th>\n",
       "      <th>Sex</th>\n",
       "      <th>Age</th>\n",
       "      <th>SibSp</th>\n",
       "      <th>Parch</th>\n",
       "      <th>Ticket</th>\n",
       "      <th>Fare</th>\n",
       "      <th>Cabin</th>\n",
       "      <th>Embarked</th>\n",
       "    </tr>\n",
       "  </thead>\n",
       "  <tbody>\n",
       "    <tr>\n",
       "      <th>0</th>\n",
       "      <td>1</td>\n",
       "      <td>0</td>\n",
       "      <td>3</td>\n",
       "      <td>Braund, Mr. Owen Harris</td>\n",
       "      <td>male</td>\n",
       "      <td>22.0</td>\n",
       "      <td>1</td>\n",
       "      <td>0</td>\n",
       "      <td>A/5 21171</td>\n",
       "      <td>7.2500</td>\n",
       "      <td>NaN</td>\n",
       "      <td>S</td>\n",
       "    </tr>\n",
       "    <tr>\n",
       "      <th>1</th>\n",
       "      <td>2</td>\n",
       "      <td>1</td>\n",
       "      <td>1</td>\n",
       "      <td>Cumings, Mrs. John Bradley (Florence Briggs Th...</td>\n",
       "      <td>female</td>\n",
       "      <td>38.0</td>\n",
       "      <td>1</td>\n",
       "      <td>0</td>\n",
       "      <td>PC 17599</td>\n",
       "      <td>71.2833</td>\n",
       "      <td>C85</td>\n",
       "      <td>C</td>\n",
       "    </tr>\n",
       "    <tr>\n",
       "      <th>2</th>\n",
       "      <td>3</td>\n",
       "      <td>1</td>\n",
       "      <td>3</td>\n",
       "      <td>Heikkinen, Miss. Laina</td>\n",
       "      <td>female</td>\n",
       "      <td>26.0</td>\n",
       "      <td>0</td>\n",
       "      <td>0</td>\n",
       "      <td>STON/O2. 3101282</td>\n",
       "      <td>7.9250</td>\n",
       "      <td>NaN</td>\n",
       "      <td>S</td>\n",
       "    </tr>\n",
       "    <tr>\n",
       "      <th>3</th>\n",
       "      <td>4</td>\n",
       "      <td>1</td>\n",
       "      <td>1</td>\n",
       "      <td>Futrelle, Mrs. Jacques Heath (Lily May Peel)</td>\n",
       "      <td>female</td>\n",
       "      <td>35.0</td>\n",
       "      <td>1</td>\n",
       "      <td>0</td>\n",
       "      <td>113803</td>\n",
       "      <td>53.1000</td>\n",
       "      <td>C123</td>\n",
       "      <td>S</td>\n",
       "    </tr>\n",
       "    <tr>\n",
       "      <th>4</th>\n",
       "      <td>5</td>\n",
       "      <td>0</td>\n",
       "      <td>3</td>\n",
       "      <td>Allen, Mr. William Henry</td>\n",
       "      <td>male</td>\n",
       "      <td>35.0</td>\n",
       "      <td>0</td>\n",
       "      <td>0</td>\n",
       "      <td>373450</td>\n",
       "      <td>8.0500</td>\n",
       "      <td>NaN</td>\n",
       "      <td>S</td>\n",
       "    </tr>\n",
       "  </tbody>\n",
       "</table>\n",
       "</div>"
      ],
      "text/plain": [
       "   PassengerId  Survived  Pclass  \\\n",
       "0            1         0       3   \n",
       "1            2         1       1   \n",
       "2            3         1       3   \n",
       "3            4         1       1   \n",
       "4            5         0       3   \n",
       "\n",
       "                                                Name     Sex   Age  SibSp  \\\n",
       "0                            Braund, Mr. Owen Harris    male  22.0      1   \n",
       "1  Cumings, Mrs. John Bradley (Florence Briggs Th...  female  38.0      1   \n",
       "2                             Heikkinen, Miss. Laina  female  26.0      0   \n",
       "3       Futrelle, Mrs. Jacques Heath (Lily May Peel)  female  35.0      1   \n",
       "4                           Allen, Mr. William Henry    male  35.0      0   \n",
       "\n",
       "   Parch            Ticket     Fare Cabin Embarked  \n",
       "0      0         A/5 21171   7.2500   NaN        S  \n",
       "1      0          PC 17599  71.2833   C85        C  \n",
       "2      0  STON/O2. 3101282   7.9250   NaN        S  \n",
       "3      0            113803  53.1000  C123        S  \n",
       "4      0            373450   8.0500   NaN        S  "
      ]
     },
     "execution_count": 3,
     "metadata": {},
     "output_type": "execute_result"
    }
   ],
   "source": [
    "train_raw.head()"
   ]
  },
  {
   "cell_type": "code",
   "execution_count": null,
   "metadata": {},
   "outputs": [],
   "source": []
  },
  {
   "cell_type": "code",
   "execution_count": 58,
   "metadata": {},
   "outputs": [],
   "source": [
    "def trans_name(train, test):\n",
    "    for data in [train, test]:\n",
    "            data[\"title\"] = data.apply(lambda row: row['Name'].split(\",\")[1].strip().split(\" \")[0], axis=1)\n",
    "            data[\"name_len\"] = data.apply(lambda row: len(row['Name']), axis=1)\n",
    "            del data[\"Name\"]\n",
    "    return train,test\n",
    "\n",
    "def trans_age(train, test):\n",
    "    for data in [train, test]:\n",
    "        data[\"age_missing\"] = data.apply(lambda row: row['Age'] != row['Age'], axis=1)\n",
    "        newAges = train.groupby(['title', 'Pclass'])['Age']\n",
    "        data['Age'] = newAges.transform(lambda x: x.fillna(x.mean()))\n",
    "    return train,test\n",
    "    \n",
    "def trans_ticket(train, test):\n",
    "    for data in [train, test]:\n",
    "        data[\"ticket_len\"] = data.apply(lambda row: len(row['Ticket']), axis=1)\n",
    "        data[\"ticket_letter\"] = data.apply(lambda row: str(str(row['Ticket'])[0]), axis=1)\n",
    "        data[\"ticket_letter\"] = data.apply(\n",
    "            lambda row: row['ticket_letter'] if row['ticket_letter'] in ['3','2','1','S','P','C','A']\n",
    "                                            else \"uncommon\" if row['ticket_letter'] in ['W','4','7','F','6','L','5','8','9']\n",
    "                                            else \"unknown\", axis=1)\n",
    "        del data['Ticket']\n",
    "    return train,test\n",
    "\n",
    "def trans_family(train, test):\n",
    "    for data in [train, test]:\n",
    "        data[\"family_size\"] = data.apply(lambda row: \"solo\" if (row[\"SibSp\"] + row[\"Parch\"]) == 0 else\n",
    "                                       \"small\" if (row[\"SibSp\"] + row[\"Parch\"]) <= 3 else \"large\", axis=1 )\n",
    "        del data[\"SibSp\"]\n",
    "        del data[\"Parch\"]\n",
    "        \n",
    "    return train,test\n",
    "\n",
    "def trans_fare(train, test):\n",
    "    train['Fare'].fillna(train['Fare'].mean(), inplace=True) \n",
    "    test['Fare'].fillna(train['Fare'].mean(), inplace=True) \n",
    "    return train,test\n",
    "\n",
    "def trans_embarked(train, test):\n",
    "    train['Embarked'].fillna(\"S\", inplace=True) \n",
    "    test['Embarked'].fillna(\"S\", inplace=True) \n",
    "    return train,test\n",
    "\n",
    "def trans_cabin(train, test):\n",
    "    for i in [train, test]:\n",
    "#         i[\"had_cabin\"] = i.apply(lambda row: row['Cabin'] == row['Cabin'], axis=1)\n",
    "        i[\"cabin_letter\"] = i.apply(lambda row: str(row['Cabin'])[0], axis=1)\n",
    "        i['Cabin_num1'] = i['Cabin'].apply(lambda x: str(x).split(' ')[-1][1:])\n",
    "        i['Cabin_num1'].replace('an', np.NaN, inplace = True)\n",
    "        i['Cabin_num1'] = i['Cabin_num1'].apply(lambda x: int(x) if not pd.isnull(x) and x != '' else np.NaN)\n",
    "        i['Cabin_num'] = pd.qcut(train['Cabin_num1'],3)\n",
    "    \n",
    "    train = pd.concat((train, pd.get_dummies(train['Cabin_num'], prefix = 'Cabin_num')), axis = 1)\n",
    "    test = pd.concat((test, pd.get_dummies(test['Cabin_num'], prefix = 'Cabin_num')), axis = 1)\n",
    "    del train['Cabin_num']\n",
    "    del test['Cabin_num']\n",
    "    del train['Cabin_num1']\n",
    "    del test['Cabin_num1']\n",
    "    del test['Cabin']\n",
    "    del train['Cabin']\n",
    "    return train, test"
   ]
  },
  {
   "cell_type": "code",
   "execution_count": 59,
   "metadata": {},
   "outputs": [
    {
     "name": "stdout",
     "output_type": "stream",
     "text": [
      "Sex {'female', 'male'}\n",
      "Embarked {'S', 'Q', 'C'}\n",
      "Pclass {1, 2, 3}\n",
      "title {'Miss.', 'Dr.', 'Ms.', 'Master.', 'Mr.', 'Col.', 'Mrs.', 'Rev.'}\n",
      "cabin_letter {'A', 'n', 'D', 'B', 'G', 'C', 'E', 'F'}\n",
      "family_size {'large', 'small', 'solo'}\n",
      "ticket_letter {'A', 'P', 'S', '2', '1', 'C', 'uncommon', '3'}\n",
      "Columns:  45\n",
      "Any Nulls:  False False\n"
     ]
    },
    {
     "data": {
      "text/plain": [
       "Cabin_num_(1.999, 28.667]     29\n",
       "Cabin_num_(28.667, 65.667]    29\n",
       "Cabin_num_(65.667, 148.0]     31\n",
       "dtype: int64"
      ]
     },
     "execution_count": 59,
     "metadata": {},
     "output_type": "execute_result"
    }
   ],
   "source": [
    "def expand_both(train, test):\n",
    "    cols_to_expand = ['Sex','Embarked', 'Pclass', 'title', 'cabin_letter','family_size', 'ticket_letter']\n",
    "    for column in cols_to_expand:\n",
    "        vals = set(train[column].unique())\n",
    "        vals = vals.intersection(set(test[column].unique()))\n",
    "        print(column, vals)\n",
    "        new_cols = [column + \"_\" + str(val) for val in vals]\n",
    "\n",
    "        train = pd.concat((train, pd.get_dummies(train[column], prefix = column)[new_cols]), axis = 1)\n",
    "        test = pd.concat((test, pd.get_dummies(test[column], prefix = column)[new_cols]), axis = 1)\n",
    "    \n",
    "        del train[column]\n",
    "        del test[column]\n",
    "\n",
    "    return train, test\n",
    "\n",
    "train = train_raw.copy()\n",
    "test = test_raw.copy()\n",
    "\n",
    "train, test = trans_name(train, test)\n",
    "train, test = trans_age(train, test)  \n",
    "train, test = trans_ticket(train, test)\n",
    "train, test = trans_family(train, test)\n",
    "train, test = trans_fare(train, test)\n",
    "train, test = trans_embarked(train, test)\n",
    "train, test = trans_cabin(train, test)\n",
    "\n",
    "train, test = expand_both(train, test)\n",
    "\n",
    "print(\"Columns: \", len(train.columns))\n",
    "print(\"Any Nulls: \", train.isnull().values.any(), test.isnull().values.any())\n",
    "test[['Cabin_num_(1.999, 28.667]', 'Cabin_num_(28.667, 65.667]',\n",
    "       'Cabin_num_(65.667, 148.0]']].sum()"
   ]
  },
  {
   "cell_type": "code",
   "execution_count": 60,
   "metadata": {},
   "outputs": [
    {
     "data": {
      "text/plain": [
       "Index(['Age', 'Fare', 'name_len', 'age_missing', 'ticket_len',\n",
       "       'Cabin_num_(1.999, 28.667]', 'Cabin_num_(28.667, 65.667]',\n",
       "       'Cabin_num_(65.667, 148.0]', 'Sex_female', 'Sex_male', 'Embarked_S',\n",
       "       'Embarked_Q', 'Embarked_C', 'Pclass_1', 'Pclass_2', 'Pclass_3',\n",
       "       'title_Miss.', 'title_Dr.', 'title_Ms.', 'title_Master.', 'title_Mr.',\n",
       "       'title_Col.', 'title_Mrs.', 'title_Rev.', 'cabin_letter_A',\n",
       "       'cabin_letter_n', 'cabin_letter_D', 'cabin_letter_B', 'cabin_letter_G',\n",
       "       'cabin_letter_C', 'cabin_letter_E', 'cabin_letter_F',\n",
       "       'family_size_large', 'family_size_small', 'family_size_solo',\n",
       "       'ticket_letter_A', 'ticket_letter_P', 'ticket_letter_S',\n",
       "       'ticket_letter_2', 'ticket_letter_1', 'ticket_letter_C',\n",
       "       'ticket_letter_uncommon', 'ticket_letter_3'],\n",
       "      dtype='object')"
      ]
     },
     "execution_count": 60,
     "metadata": {},
     "output_type": "execute_result"
    }
   ],
   "source": [
    "cols = train.columns[2:]\n",
    "cols"
   ]
  },
  {
   "cell_type": "code",
   "execution_count": 12,
   "metadata": {},
   "outputs": [
    {
     "name": "stdout",
     "output_type": "stream",
     "text": [
      "Survived ~ Age + Fare + name_len + age_missing + ticket_len + had_cabin + Sex_female + Sex_male + Embarked_S + Embarked_Q + Embarked_C + Pclass_1 + Pclass_2 + Pclass_3 + title_Miss. + title_Dr. + title_Ms. + title_Master. + title_Mr. + title_Col. + title_Mrs. + title_Rev. + cabin_letter_A + cabin_letter_n + cabin_letter_D + cabin_letter_B + cabin_letter_G + cabin_letter_C + cabin_letter_E + cabin_letter_F + family_size_large + family_size_small + family_size_solo + ticket_letter_A + ticket_letter_P + ticket_letter_S + ticket_letter_2 + ticket_letter_1 + ticket_letter_C + ticket_letter_uncommon + ticket_letter_3 - 1\n"
     ]
    }
   ],
   "source": [
    "formula = \"Survived ~ \" + \" + \".join(cols) + \" - 1\"\n",
    "print(formula)\n",
    "lm = smf.ols(formula = formula, data = train).fit()\n",
    "lm.summary()"
   ]
  },
  {
   "cell_type": "code",
   "execution_count": 13,
   "metadata": {},
   "outputs": [
    {
     "name": "stderr",
     "output_type": "stream",
     "text": [
      "C:\\Users\\erikl\\Anaconda2\\envs\\AppliedDataScience\\lib\\site-packages\\sklearn\\linear_model\\_logistic.py:940: ConvergenceWarning: lbfgs failed to converge (status=1):\n",
      "STOP: TOTAL NO. of ITERATIONS REACHED LIMIT.\n",
      "\n",
      "Increase the number of iterations (max_iter) or scale the data as shown in:\n",
      "    https://scikit-learn.org/stable/modules/preprocessing.html\n",
      "Please also refer to the documentation for alternative solver options:\n",
      "    https://scikit-learn.org/stable/modules/linear_model.html#logistic-regression\n",
      "  extra_warning_msg=_LOGISTIC_SOLVER_CONVERGENCE_MSG)\n"
     ]
    },
    {
     "data": {
      "text/plain": [
       "LogisticRegression(C=1.0, class_weight=None, dual=False, fit_intercept=True,\n",
       "                   intercept_scaling=1, l1_ratio=None, max_iter=500,\n",
       "                   multi_class='auto', n_jobs=None, penalty='l2',\n",
       "                   random_state=None, solver='lbfgs', tol=0.0001, verbose=0,\n",
       "                   warm_start=False)"
      ]
     },
     "execution_count": 13,
     "metadata": {},
     "output_type": "execute_result"
    }
   ],
   "source": [
    "logit = LogisticRegression(max_iter=500)\n",
    "\n",
    "X_train = np.c_[train[cols]]\n",
    "X_test = np.c_[test[cols]]\n",
    "\n",
    "Y_train= train[\"Survived\"]\n",
    "\n",
    "logit.fit(X_train,Y_train)"
   ]
  },
  {
   "cell_type": "code",
   "execution_count": 15,
   "metadata": {},
   "outputs": [
    {
     "name": "stdout",
     "output_type": "stream",
     "text": [
      "Accuracy on Training Set:  0.8484848484848485\n"
     ]
    }
   ],
   "source": [
    "pred_train = logit.predict(X_train)\n",
    "\n",
    "# 0.8484848484848485\n",
    "accuracy = sum(a == b for a,b in zip(pred_train, Y_train))/len(Y_train)\n",
    "print(\"Accuracy on Training Set: \", accuracy)"
   ]
  },
  {
   "cell_type": "code",
   "execution_count": 16,
   "metadata": {},
   "outputs": [
    {
     "data": {
      "text/html": [
       "<div>\n",
       "<style scoped>\n",
       "    .dataframe tbody tr th:only-of-type {\n",
       "        vertical-align: middle;\n",
       "    }\n",
       "\n",
       "    .dataframe tbody tr th {\n",
       "        vertical-align: top;\n",
       "    }\n",
       "\n",
       "    .dataframe thead th {\n",
       "        text-align: right;\n",
       "    }\n",
       "</style>\n",
       "<table border=\"1\" class=\"dataframe\">\n",
       "  <thead>\n",
       "    <tr style=\"text-align: right;\">\n",
       "      <th></th>\n",
       "      <th>PassengerId</th>\n",
       "      <th>Survived</th>\n",
       "    </tr>\n",
       "  </thead>\n",
       "  <tbody>\n",
       "    <tr>\n",
       "      <th>0</th>\n",
       "      <td>892</td>\n",
       "      <td>0</td>\n",
       "    </tr>\n",
       "    <tr>\n",
       "      <th>1</th>\n",
       "      <td>893</td>\n",
       "      <td>1</td>\n",
       "    </tr>\n",
       "    <tr>\n",
       "      <th>2</th>\n",
       "      <td>894</td>\n",
       "      <td>0</td>\n",
       "    </tr>\n",
       "    <tr>\n",
       "      <th>3</th>\n",
       "      <td>895</td>\n",
       "      <td>0</td>\n",
       "    </tr>\n",
       "    <tr>\n",
       "      <th>4</th>\n",
       "      <td>896</td>\n",
       "      <td>1</td>\n",
       "    </tr>\n",
       "  </tbody>\n",
       "</table>\n",
       "</div>"
      ],
      "text/plain": [
       "   PassengerId  Survived\n",
       "0          892         0\n",
       "1          893         1\n",
       "2          894         0\n",
       "3          895         0\n",
       "4          896         1"
      ]
     },
     "execution_count": 16,
     "metadata": {},
     "output_type": "execute_result"
    }
   ],
   "source": [
    "pred_test = logit.predict(X_test)\n",
    "pred_test\n",
    "\n",
    "#PassengerId,Survived\n",
    "test_res = test[[\"PassengerId\"]].copy()\n",
    "test_res[\"Survived\"] = pred_test\n",
    "test_res.to_csv(\"my_predictions.csv\", index=False)\n",
    "test_res.head()"
   ]
  },
  {
   "cell_type": "code",
   "execution_count": 17,
   "metadata": {},
   "outputs": [],
   "source": [
    "#Find the Alpha and report best test performance for Ridge/Lasso.\n",
    "def Regularization_fit_alpha(model,X_train,y_train,X_valid,y_valid,alphas,Graph=False, logl=False):\n",
    "    from sklearn.metrics import r2_score\n",
    "    #model = 1-Ridge, 2-Lasso\n",
    "    #aplhas: a list of aplha values to try\n",
    "    #Graph: plot the graph of R^2 values for different alpha\n",
    "\n",
    "    R_2_OS=[] #out of sample R2's\n",
    "    \n",
    "    #initialize the model to use for each given alpha\n",
    "    if model==1:\n",
    "        RM = lambda a: linear_model.Ridge(fit_intercept=True, alpha=a)\n",
    "        model_label='Ridge'\n",
    "    else:\n",
    "        RM = lambda a: linear_model.Lasso(fit_intercept=True, alpha=a)\n",
    "        model_label='Lasso'\n",
    "    \n",
    "    best_R2 = -1\n",
    "    best_alpha = alphas[0]\n",
    "    best_coefs = []\n",
    "    \n",
    "    for a in alphas: #for all alphas to try\n",
    "        lm = RM(a) #assign the model\n",
    "        lm.fit(X_train,y_train)  #fit the regularization model\n",
    "        y_predict=lm.predict(X_valid) #compute the prediction for the validation sample \n",
    "        R_2_OS_=r2_score(y_valid,y_predict)\n",
    "        R_2_OS.append(R_2_OS_)\n",
    "        if R_2_OS_ > best_R2: #if current OS R2 is the best - update the best solution\n",
    "            best_R2 = R_2_OS_\n",
    "            best_alpha = a\n",
    "            best_coefs = lm.coef_\n",
    "    \n",
    "    if Graph==True: #visualization of the performance depending on alpha\n",
    "        plt.title('OS-R-squared for different Alpha')\n",
    "        if logl: #log-scale\n",
    "            plt.xlabel('ln(Alpha)')\n",
    "            l=np.log(alphas)\n",
    "            bl=np.log(best_alpha)\n",
    "        else:\n",
    "            plt.xlabel('Alpha')\n",
    "            l=alphas\n",
    "            bl=best_alpha\n",
    "        plt.ylim((-0.1,1))\n",
    "        plt.plot(l,R_2_OS,'b',label=model_label)\n",
    "        plt.legend(loc='upper right')\n",
    "        plt.ylabel('R-squared')\n",
    "        plt.axvline(bl,color='r',linestyle='--')\n",
    "\n",
    "        plt.show()\n",
    "    \n",
    "    return [best_alpha,best_R2,best_coefs]"
   ]
  },
  {
   "cell_type": "code",
   "execution_count": 18,
   "metadata": {},
   "outputs": [],
   "source": [
    "trainx = train[:600][cols]\n",
    "trainy = train[:600][[\"Survived\"]]\n",
    "\n",
    "validx = train[600:][cols]\n",
    "validy = train[600:][[\"Survived\"]]\n",
    "\n",
    "testx = test[cols]"
   ]
  },
  {
   "cell_type": "code",
   "execution_count": 19,
   "metadata": {},
   "outputs": [
    {
     "data": {
      "image/png": "[encoded data removed]",
      "text/plain": [
       "<Figure size 432x288 with 1 Axes>"
      ]
     },
     "metadata": {
      "needs_background": "light"
     },
     "output_type": "display_data"
    },
    {
     "data": {
      "text/plain": [
       "0.006737946999085467"
      ]
     },
     "execution_count": 19,
     "metadata": {},
     "output_type": "execute_result"
    }
   ],
   "source": [
    "alphas = np.exp(np.linspace(-5,10,200)) #exponential range of possible alphas\n",
    "\n",
    "[alpha_optimal, best_R2, Lasso_coefs] = Regularization_fit_alpha(2,\n",
    "                                                                 trainx, trainy,\n",
    "                                                                 validx, validy,\n",
    "                                                                 alphas,\n",
    "                                                                 Graph=True, logl=True)\n",
    "alpha_optimal"
   ]
  },
  {
   "cell_type": "code",
   "execution_count": 20,
   "metadata": {},
   "outputs": [
    {
     "name": "stdout",
     "output_type": "stream",
     "text": [
      "The IS R-squared of Lasso is: 0.4299450616488203\n"
     ]
    },
    {
     "data": {
      "text/plain": [
       "array([-3.40401206e-03,  4.39733692e-04,  5.22140580e-03, -0.00000000e+00,\n",
       "        3.38290809e-03,  6.08851048e-02,  2.19094962e-01, -2.18687696e-15,\n",
       "       -3.89380843e-02,  0.00000000e+00,  0.00000000e+00,  0.00000000e+00,\n",
       "        0.00000000e+00, -1.13162508e-01,  0.00000000e+00, -0.00000000e+00,\n",
       "        0.00000000e+00,  0.00000000e+00, -2.61342749e-01,  0.00000000e+00,\n",
       "        0.00000000e+00, -0.00000000e+00,  0.00000000e+00, -1.40104519e-02,\n",
       "        0.00000000e+00,  0.00000000e+00, -0.00000000e+00, -0.00000000e+00,\n",
       "        0.00000000e+00,  0.00000000e+00, -2.62476191e-01, -0.00000000e+00,\n",
       "        6.24927874e-03, -0.00000000e+00, -0.00000000e+00,  0.00000000e+00,\n",
       "        0.00000000e+00,  5.67771051e-02,  0.00000000e+00, -0.00000000e+00,\n",
       "       -9.90942735e-03])"
      ]
     },
     "execution_count": 20,
     "metadata": {},
     "output_type": "execute_result"
    }
   ],
   "source": [
    "Lasso = linear_model.Lasso(fit_intercept=True, alpha=alpha_optimal)\n",
    "\n",
    "Lasso.fit(trainx, trainy)\n",
    "# In sample:\n",
    "YPred_IS=Lasso.predict(trainx)\n",
    "print(\"The IS R-squared of Lasso is: {0}\".format(r2_score(trainy, YPred_IS)))\n",
    "\n",
    "Lasso.coef_"
   ]
  },
  {
   "cell_type": "code",
   "execution_count": 68,
   "metadata": {
    "scrolled": true
   },
   "outputs": [],
   "source": [
    "from sklearn.ensemble import RandomForestClassifier\n",
    "from sklearn.model_selection import GridSearchCV\n",
    "\n",
    "# Number of features to consider at every split\n",
    "max_features = ['auto', 'sqrt']\n",
    "# Maximum number of levels in tree\n",
    "max_depth = [int(x) for x in np.linspace(10, 100, num = 10)]\n",
    "max_depth.append(None)\n",
    "# Minimum number of samples required to split a node\n",
    "min_samples_split = [2, 5, 10]\n",
    "# Minimum number of samples required at each leaf node\n",
    "min_samples_leaf = [1, 2, 4]\n",
    "# Method of selecting samples for training each tree\n",
    "bootstrap = [True, False]\n",
    "\n",
    "min_samples_leaf = [1, 2, 5, 10] \n",
    "min_samples_split = [2, 4, 10, 12, 16]\n",
    "n_estimators = [50, 100, 400, 700, 1000]\n",
    "\n",
    "# Create the random grid\n",
    "param_grid = {'n_estimators': n_estimators,\n",
    "#                'max_features': max_features,\n",
    "#                'max_depth': max_depth,\n",
    "               'min_samples_split': min_samples_split,\n",
    "#                'min_samples_leaf': min_samples_leaf,\n",
    "#                'bootstrap': bootstrap,\n",
    "               \n",
    "              }\n",
    "\n",
    "param_grid = { \n",
    "    \"criterion\" : [\"gini\", \"entropy\"], \n",
    "    \"min_samples_leaf\" : [1, 5, 10], \n",
    "    \"min_samples_split\" : [2, 4, 10, 12, 16],\n",
    "#     \"n_estimators\": n_estimators,\n",
    "    'max_leaf_nodes': range(2,20)\n",
    "}\n",
    "\n",
    "# gs = GridSearchCV(estimator=rf, param_grid=param_grid, scoring='accuracy', cv=3, n_jobs=-1)\n",
    "\n",
    "forest = RandomForestClassifier()\n",
    "ft_grid = GridSearchCV(estimator = forest, \n",
    "                       param_grid = param_grid,\n",
    "                       scoring = 'accuracy',\n",
    "                       cv=3,\n",
    "                       n_jobs= -1\n",
    "                      )\n",
    "\n",
    "ft_tuned = ft_grid.fit(train[cols], train[['Survived']].values.ravel())"
   ]
  },
  {
   "cell_type": "code",
   "execution_count": 69,
   "metadata": {},
   "outputs": [
    {
     "name": "stdout",
     "output_type": "stream",
     "text": [
      "Best score:  0.8350168350168351\n",
      "Best params:  {'criterion': 'gini', 'max_leaf_nodes': 19, 'min_samples_leaf': 5, 'min_samples_split': 4}\n",
      "IS Score:  0.8630751964085297\n"
     ]
    }
   ],
   "source": [
    "print (\"Best score: \", ft_tuned.best_score_) # 0.840628507295174\n",
    "print (\"Best params: \", ft_tuned.best_params_)\n",
    "print (\"IS Score: \", ft_tuned.score(train[cols], train[['Survived']])) # 0.8698092031425365"
   ]
  },
  {
   "cell_type": "code",
   "execution_count": 71,
   "metadata": {},
   "outputs": [
    {
     "name": "stdout",
     "output_type": "stream",
     "text": [
      "0.8350\n"
     ]
    },
    {
     "data": {
      "text/html": [
       "<div>\n",
       "<style scoped>\n",
       "    .dataframe tbody tr th:only-of-type {\n",
       "        vertical-align: middle;\n",
       "    }\n",
       "\n",
       "    .dataframe tbody tr th {\n",
       "        vertical-align: top;\n",
       "    }\n",
       "\n",
       "    .dataframe thead th {\n",
       "        text-align: right;\n",
       "    }\n",
       "</style>\n",
       "<table border=\"1\" class=\"dataframe\">\n",
       "  <thead>\n",
       "    <tr style=\"text-align: right;\">\n",
       "      <th></th>\n",
       "      <th>variable</th>\n",
       "      <th>importance</th>\n",
       "    </tr>\n",
       "  </thead>\n",
       "  <tbody>\n",
       "    <tr>\n",
       "      <th>9</th>\n",
       "      <td>Sex_male</td>\n",
       "      <td>0.173145</td>\n",
       "    </tr>\n",
       "    <tr>\n",
       "      <th>20</th>\n",
       "      <td>title_Mr.</td>\n",
       "      <td>0.149107</td>\n",
       "    </tr>\n",
       "    <tr>\n",
       "      <th>8</th>\n",
       "      <td>Sex_female</td>\n",
       "      <td>0.127029</td>\n",
       "    </tr>\n",
       "    <tr>\n",
       "      <th>1</th>\n",
       "      <td>Fare</td>\n",
       "      <td>0.071679</td>\n",
       "    </tr>\n",
       "    <tr>\n",
       "      <th>2</th>\n",
       "      <td>name_len</td>\n",
       "      <td>0.054510</td>\n",
       "    </tr>\n",
       "    <tr>\n",
       "      <th>15</th>\n",
       "      <td>Pclass_3</td>\n",
       "      <td>0.051440</td>\n",
       "    </tr>\n",
       "    <tr>\n",
       "      <th>0</th>\n",
       "      <td>Age</td>\n",
       "      <td>0.043962</td>\n",
       "    </tr>\n",
       "    <tr>\n",
       "      <th>16</th>\n",
       "      <td>title_Miss.</td>\n",
       "      <td>0.042248</td>\n",
       "    </tr>\n",
       "    <tr>\n",
       "      <th>25</th>\n",
       "      <td>cabin_letter_n</td>\n",
       "      <td>0.039113</td>\n",
       "    </tr>\n",
       "    <tr>\n",
       "      <th>22</th>\n",
       "      <td>title_Mrs.</td>\n",
       "      <td>0.033737</td>\n",
       "    </tr>\n",
       "    <tr>\n",
       "      <th>32</th>\n",
       "      <td>family_size_large</td>\n",
       "      <td>0.032672</td>\n",
       "    </tr>\n",
       "    <tr>\n",
       "      <th>33</th>\n",
       "      <td>family_size_small</td>\n",
       "      <td>0.026993</td>\n",
       "    </tr>\n",
       "    <tr>\n",
       "      <th>13</th>\n",
       "      <td>Pclass_1</td>\n",
       "      <td>0.026764</td>\n",
       "    </tr>\n",
       "    <tr>\n",
       "      <th>39</th>\n",
       "      <td>ticket_letter_1</td>\n",
       "      <td>0.016391</td>\n",
       "    </tr>\n",
       "    <tr>\n",
       "      <th>4</th>\n",
       "      <td>ticket_len</td>\n",
       "      <td>0.015505</td>\n",
       "    </tr>\n",
       "    <tr>\n",
       "      <th>14</th>\n",
       "      <td>Pclass_2</td>\n",
       "      <td>0.014477</td>\n",
       "    </tr>\n",
       "    <tr>\n",
       "      <th>34</th>\n",
       "      <td>family_size_solo</td>\n",
       "      <td>0.009700</td>\n",
       "    </tr>\n",
       "    <tr>\n",
       "      <th>19</th>\n",
       "      <td>title_Master.</td>\n",
       "      <td>0.008828</td>\n",
       "    </tr>\n",
       "    <tr>\n",
       "      <th>10</th>\n",
       "      <td>Embarked_S</td>\n",
       "      <td>0.007993</td>\n",
       "    </tr>\n",
       "    <tr>\n",
       "      <th>41</th>\n",
       "      <td>ticket_letter_uncommon</td>\n",
       "      <td>0.007719</td>\n",
       "    </tr>\n",
       "  </tbody>\n",
       "</table>\n",
       "</div>"
      ],
      "text/plain": [
       "                  variable  importance\n",
       "9                 Sex_male    0.173145\n",
       "20               title_Mr.    0.149107\n",
       "8               Sex_female    0.127029\n",
       "1                     Fare    0.071679\n",
       "2                 name_len    0.054510\n",
       "15                Pclass_3    0.051440\n",
       "0                      Age    0.043962\n",
       "16             title_Miss.    0.042248\n",
       "25          cabin_letter_n    0.039113\n",
       "22              title_Mrs.    0.033737\n",
       "32       family_size_large    0.032672\n",
       "33       family_size_small    0.026993\n",
       "13                Pclass_1    0.026764\n",
       "39         ticket_letter_1    0.016391\n",
       "4               ticket_len    0.015505\n",
       "14                Pclass_2    0.014477\n",
       "34        family_size_solo    0.009700\n",
       "19           title_Master.    0.008828\n",
       "10              Embarked_S    0.007993\n",
       "41  ticket_letter_uncommon    0.007719"
      ]
     },
     "execution_count": 71,
     "metadata": {},
     "output_type": "execute_result"
    }
   ],
   "source": [
    "rf = RandomForestClassifier(criterion = ft_tuned.best_params_['criterion'], \n",
    "#                              n_estimators = ft_tuned.best_params_['n_estimators'],\n",
    "                             min_samples_split = ft_tuned.best_params_['min_samples_split'],\n",
    "                             min_samples_leaf = ft_tuned.best_params_['min_samples_leaf'],\n",
    "                             max_leaf_nodes = ft_tuned.best_params_['max_leaf_nodes'],\n",
    "                             oob_score=True,\n",
    "                             random_state=1,\n",
    "                             n_jobs=-1)\n",
    "rf.fit(train[cols], train[['Survived']].values.ravel())\n",
    "print(\"%.4f\" % rf.oob_score_) # 0.8339\n",
    "\n",
    "pd.concat((pd.DataFrame(cols, columns = ['variable']), \n",
    "           pd.DataFrame(rf.feature_importances_, columns = ['importance'])), \n",
    "          axis = 1).sort_values(by='importance', ascending = False)[:20]"
   ]
  },
  {
   "cell_type": "code",
   "execution_count": 72,
   "metadata": {},
   "outputs": [
    {
     "data": {
      "text/html": [
       "<div>\n",
       "<style scoped>\n",
       "    .dataframe tbody tr th:only-of-type {\n",
       "        vertical-align: middle;\n",
       "    }\n",
       "\n",
       "    .dataframe tbody tr th {\n",
       "        vertical-align: top;\n",
       "    }\n",
       "\n",
       "    .dataframe thead th {\n",
       "        text-align: right;\n",
       "    }\n",
       "</style>\n",
       "<table border=\"1\" class=\"dataframe\">\n",
       "  <thead>\n",
       "    <tr style=\"text-align: right;\">\n",
       "      <th></th>\n",
       "      <th>PassengerId</th>\n",
       "      <th>Survived</th>\n",
       "    </tr>\n",
       "  </thead>\n",
       "  <tbody>\n",
       "    <tr>\n",
       "      <th>0</th>\n",
       "      <td>892</td>\n",
       "      <td>0</td>\n",
       "    </tr>\n",
       "    <tr>\n",
       "      <th>1</th>\n",
       "      <td>893</td>\n",
       "      <td>1</td>\n",
       "    </tr>\n",
       "    <tr>\n",
       "      <th>2</th>\n",
       "      <td>894</td>\n",
       "      <td>0</td>\n",
       "    </tr>\n",
       "    <tr>\n",
       "      <th>3</th>\n",
       "      <td>895</td>\n",
       "      <td>0</td>\n",
       "    </tr>\n",
       "    <tr>\n",
       "      <th>4</th>\n",
       "      <td>896</td>\n",
       "      <td>1</td>\n",
       "    </tr>\n",
       "  </tbody>\n",
       "</table>\n",
       "</div>"
      ],
      "text/plain": [
       "   PassengerId  Survived\n",
       "0          892         0\n",
       "1          893         1\n",
       "2          894         0\n",
       "3          895         0\n",
       "4          896         1"
      ]
     },
     "execution_count": 72,
     "metadata": {},
     "output_type": "execute_result"
    }
   ],
   "source": [
    "pred_test = ft_tuned.predict(test[cols])\n",
    "pred_test\n",
    "\n",
    "#PassengerId,Survived\n",
    "test_res = test[[\"PassengerId\"]].copy()\n",
    "test_res[\"Survived\"] = pred_test\n",
    "test_res.to_csv(\"my_predictions.csv\", index=False)\n",
    "test_res.head()"
   ]
  },
  {
   "cell_type": "code",
   "execution_count": null,
   "metadata": {},
   "outputs": [],
   "source": []
  }
 ],
 "metadata": {
  "kernelspec": {
   "display_name": "Python 3",
   "language": "python",
   "name": "python3"
  },
  "language_info": {
   "codemirror_mode": {
    "name": "ipython",
    "version": 3
   },
   "file_extension": ".py",
   "mimetype": "text/x-python",
   "name": "python",
   "nbconvert_exporter": "python",
   "pygments_lexer": "ipython3",
   "version": "3.7.6"
  }
 },
 "nbformat": 4,
 "nbformat_minor": 4
}
